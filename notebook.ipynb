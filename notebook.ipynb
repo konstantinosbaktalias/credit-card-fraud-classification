{
 "cells": [
  {
   "cell_type": "code",
   "execution_count": null,
   "metadata": {},
   "outputs": [],
   "source": [
    "import numpy as np\n",
    "import pandas as pd\n",
    "import matplotlib.pyplot as plt\n",
    "import os\n",
    "from dotenv import load_dotenv\n",
    "\n",
    "from helper_methods import produce_synthetic_data\n",
    "from training_methods import k_fold_cross_validation\n",
    "from logistic_regression import LogisticRegression\n",
    "from support_vector_machine import SVM\n",
    "from k_nearest_neighbours import KNN\n",
    "from majority_vote import MajorityVote"
   ]
  },
  {
   "cell_type": "code",
   "execution_count": null,
   "metadata": {},
   "outputs": [],
   "source": [
    "# Reading the dataset from the csv\n",
    "load_dotenv()\n",
    "df = pd.read_csv(os.environ['DATASET_PATH'])\n",
    "df"
   ]
  },
  {
   "cell_type": "code",
   "execution_count": null,
   "metadata": {},
   "outputs": [],
   "source": [
    "# Seperating fraudulent and non-fraudulent transactions and get their feature vectors\n",
    "fraudulent_features = df[df['Class'] == 1].iloc[:, 2:29].to_numpy()\n",
    "non_fraudulent_features = df[df['Class'] == 0].iloc[:, 2:29].to_numpy()\n",
    "\n",
    "print(fraudulent_features.shape)\n",
    "print(non_fraudulent_features.shape)"
   ]
  },
  {
   "cell_type": "code",
   "execution_count": null,
   "metadata": {},
   "outputs": [],
   "source": [
    "\"\"\" Produce synthetic data of fraudulent, so the models do not overfit on non-fraudulent \n",
    "transactions since they dominate the dataset by a large factor\n",
    "\"\"\"\n",
    "difference_between_fraudulent_and_non = non_fraudulent_features.shape[0] - fraudulent_features.shape[0]\n",
    "fraudulent_synthetic_features = produce_synthetic_data(\n",
    "    difference_between_fraudulent_and_non, fraudulent_features)\n",
    "\n",
    "X = np.concatenate((fraudulent_features, fraudulent_synthetic_features), axis=0)\n",
    "X = np.concatenate((X, non_fraudulent_features))\n",
    "\n",
    "\n",
    "Y = np.concatenate((\n",
    "    np.ones(non_fraudulent_features.shape[0]), np.zeros(non_fraudulent_features.shape[0])), axis=0)\n",
    "\n",
    "\n",
    "# Reorder randomly the dataset\n",
    "randomise = np.arange(X.shape[0])\n",
    "np.random.shuffle(randomise)\n",
    "\n",
    "X = X[randomise]\n",
    "Y = Y[randomise]"
   ]
  },
  {
   "cell_type": "code",
   "execution_count": null,
   "metadata": {},
   "outputs": [],
   "source": [
    "# Initialise a logistic regression model\n",
    "logistic_reg = LogisticRegression(X.shape[1])"
   ]
  },
  {
   "cell_type": "code",
   "execution_count": null,
   "metadata": {},
   "outputs": [],
   "source": [
    "# Perform k-fold closs validation on the logistic regression model\n",
    "k_fold_cross_validation(logistic_reg, 5, X, Y, 10, 0.001)"
   ]
  },
  {
   "cell_type": "code",
   "execution_count": null,
   "metadata": {},
   "outputs": [],
   "source": [
    "\"\"\" Replace class label 0 with -1, so it is compatible \n",
    "    with the support vector machine classifier\n",
    "\"\"\"\n",
    "Y[Y == 0] = -1"
   ]
  },
  {
   "cell_type": "code",
   "execution_count": null,
   "metadata": {},
   "outputs": [],
   "source": [
    "# Initialise a support vector machine model\n",
    "svm = SVM(X.shape[1], 1)"
   ]
  },
  {
   "cell_type": "code",
   "execution_count": null,
   "metadata": {},
   "outputs": [],
   "source": [
    "# Perform k-fold closs validation on the logistic regression model\n",
    "k_fold_cross_validation(svm, 5, X, Y, 10, 0.01, 1, -1, True)"
   ]
  },
  {
   "cell_type": "code",
   "execution_count": null,
   "metadata": {},
   "outputs": [],
   "source": [
    "\"\"\" Revert class label -1 back to 0, so it is compatible \n",
    "    with the rest of the models\n",
    "\"\"\"\n",
    "Y[Y == -1] = 0"
   ]
  },
  {
   "cell_type": "code",
   "execution_count": null,
   "metadata": {},
   "outputs": [],
   "source": [
    "# Initialise a k nearest neighbours model\n",
    "knn = KNN(5)"
   ]
  },
  {
   "cell_type": "code",
   "execution_count": null,
   "metadata": {},
   "outputs": [],
   "source": [
    "# Perform k-fold closs validation on the k nearest neighbours model\n",
    "k_fold_cross_validation(knn, 5, X[:10000], Y[:10000], 10, 0.002, 1, 0, True)"
   ]
  },
  {
   "cell_type": "code",
   "execution_count": null,
   "metadata": {},
   "outputs": [],
   "source": [
    "\"\"\" Generating random models\n",
    "\"\"\"\n",
    "best_model = None\n",
    "best_accuracy = -np.inf\n",
    "\n",
    "for i in range(100):\n",
    "    num_of_models = np.random.randint(1, 6)\n",
    "    models = []\n",
    "    features_considered = []\n",
    "    class_vals = []\n",
    "    cap_training = []\n",
    "\n",
    "    for j in range(num_of_models):\n",
    "        model_idx = np.random.randint(0, 3)\n",
    "        random_feature_choice = np.random.randint(0, 2, X.shape[1])\n",
    "        features = random_feature_choice == np.ones(X.shape[1])\n",
    "        num_features = np.sum(random_feature_choice)\n",
    "\n",
    "        if model_idx == 0:\n",
    "            features_considered.append(features)\n",
    "            class_vals.append((0, 1))\n",
    "            cap_training.append(X.shape[0])\n",
    "            models.append(LogisticRegression(num_features))\n",
    "        elif model_idx == 1:\n",
    "            features_considered.append(features)\n",
    "            class_vals.append((-1, 1))\n",
    "            cap_training.append(X.shape[0])\n",
    "            models.append(SVM(num_features, 1))\n",
    "        else:\n",
    "            features_considered.append(features)\n",
    "            class_vals.append((0, 1))\n",
    "            cap_training.append(500)\n",
    "            models.append(KNN(np.random.randint(3, 11)))\n",
    "    \n",
    "    majority_vote = MajorityVote(models, class_vals, cap_training, features_considered)\n",
    "    acc = k_fold_cross_validation(majority_vote, 5, X, Y, 10, 0.01)\n",
    "\n",
    "    if acc > best_accuracy:\n",
    "        best_accuracy = acc\n",
    "        best_model = majority_vote\n",
    "    \n",
    "    print(f'Model #{i}:')\n",
    "    print(f'Models given: {models}')\n",
    "    print(f'Overall Accuracy: {acc}')"
   ]
  },
  {
   "cell_type": "code",
   "execution_count": null,
   "metadata": {},
   "outputs": [],
   "source": [
    "best_accuracy"
   ]
  },
  {
   "cell_type": "code",
   "execution_count": null,
   "metadata": {},
   "outputs": [],
   "source": [
    "best_model.models"
   ]
  }
 ],
 "metadata": {
  "kernelspec": {
   "display_name": "Python 3",
   "language": "python",
   "name": "python3"
  },
  "language_info": {
   "codemirror_mode": {
    "name": "ipython",
    "version": 3
   },
   "file_extension": ".py",
   "mimetype": "text/x-python",
   "name": "python",
   "nbconvert_exporter": "python",
   "pygments_lexer": "ipython3",
   "version": "3.10.11"
  }
 },
 "nbformat": 4,
 "nbformat_minor": 2
}
